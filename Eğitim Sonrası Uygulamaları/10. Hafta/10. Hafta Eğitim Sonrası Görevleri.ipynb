{
 "cells": [
  {
   "attachments": {},
   "cell_type": "markdown",
   "metadata": {},
   "source": [
    "# Problem 1 "
   ]
  },
  {
   "cell_type": "code",
   "execution_count": 3,
   "metadata": {},
   "outputs": [
    {
     "name": "stdout",
     "output_type": "stream",
     "text": [
      "[10 24 38 89 89]\n"
     ]
    }
   ],
   "source": [
    "# 1 - numpy kütüphanesini import edin\n",
    "import numpy as np\n",
    "# 2 - 5 elemanlı bir numpy array oluşturun\n",
    "array = np.array([24,89,38,10,89])\n",
    "# 3 - Oluşturduğunuz arrayi küçükten büyüğe sıralayın.\n",
    "print(np.sort(array))\n"
   ]
  },
  {
   "attachments": {},
   "cell_type": "markdown",
   "metadata": {},
   "source": [
    "# Problem 2"
   ]
  },
  {
   "cell_type": "code",
   "execution_count": 25,
   "metadata": {},
   "outputs": [
    {
     "name": "stdout",
     "output_type": "stream",
     "text": [
      "[10 15 30 45 60]\n",
      "[ 5  6  7  8  9 10 11 12 13 14]\n",
      "[50 55 60 65 70 75 80 85 90 95]\n",
      "[0. 0. 0. 0. 0. 0. 0. 0. 0. 0.]\n",
      "[1. 1. 1. 1. 1. 1. 1. 1. 1. 1.]\n",
      "[  0.  25.  50.  75. 100.]\n",
      "[22 13 15 18 18]\n",
      "[ 0.41137114 -0.04554789 -0.95796645 -0.82620937  0.10911458 -0.08408154\n",
      " -0.34751454  0.95220431  0.47440197  0.62372272]\n",
      "[[16 17 42 47 11]\n",
      " [10 16 14 22 47]\n",
      " [44 26 27 40 24]]\n",
      "[ 70  59  83 109  82]\n",
      "[133 109 161]\n",
      "47\n",
      "10\n",
      "26.866666666666667\n",
      "3\n",
      "[11 16 19]\n",
      "[10 19 10 16 19 19 16 11]\n",
      "[16 17 42 47 11]\n",
      "14\n",
      "[16 10 44]\n",
      "[[ 256  289 1764 2209  121]\n",
      " [ 100  256  196  484 2209]\n",
      " [1936  676  729 1600  576]]\n",
      "[[ True  True False  True False]\n",
      " [False False False False False]\n",
      " [False False  True False  True]]\n"
     ]
    }
   ],
   "source": [
    "# 1- (10,15,30,45,60) değerlerine sahip numpy dizisi oluşturunuz.\n",
    "sayilar = np.array([10,15,30,45,60])\n",
    "print(sayilar)\n",
    "# 2- (5-15) arasındaki sayılarla numpy dizisi oluşturunuz.\n",
    "sayilar2 = np.arange(5,15)\n",
    "print(sayilar2)\n",
    "# 3- (50-100) arasında 5'er 5'er artarak numpy dizisi oluşturunuz.\n",
    "sayilar3 = np.arange(50,100,5)\n",
    "print(sayilar3)\n",
    "# 4- 10 elemanlı sıfırlardan oluşan bir dizi oluşturunuz.\n",
    "sayilar4 = np.zeros(10)\n",
    "print(sayilar4)\n",
    "# 5- 10 elemanlı birlerden oluşan bir dizi oluşturunuz.\n",
    "sayilar5 = np.ones(10)\n",
    "print(sayilar5)\n",
    "# 6- (0-100) arasında eşit aralıklı 5 sayı üretin.\n",
    "sayilar6 = np.linspace(0,100,5)\n",
    "print(sayilar6)\n",
    "# 7- (10-30) arasında rastgele 5 tane tamsayı üretin.\n",
    "rastgeleSayilar = np.random.randint(10,31,size=5)\n",
    "print(rastgeleSayilar)\n",
    "# 8- [-1 ile 1] arasında 10 adet sayı üretin.\n",
    "rastgeleSayilar2 = np.random.uniform(-1,1,size=10)\n",
    "print(rastgeleSayilar2)\n",
    "# 9- (3x5) boyutlarında (10-50) arasında rastgele bir matris oluşturunuz.\n",
    "rastgeleSayilar3 = np.random.randint(10,50,size=(3,5))\n",
    "print(rastgeleSayilar3)\n",
    "# 10- Üretilen matrisin satır ve sütun sayıları toplamlarını hesaplayınız ?\n",
    "print(rastgeleSayilar3.sum(axis=0))\n",
    "print(rastgeleSayilar3.sum(axis=1))\n",
    "# 11- Üretilen matrisin en büyük, en küçük ve ortalaması nedir ?\n",
    "print(rastgeleSayilar3.max())\n",
    "print(rastgeleSayilar3.min())\n",
    "print(rastgeleSayilar3.mean())\n",
    "# 12- Üretilen matrisin en büyük değerinin indeksi kaçtır ?\n",
    "print(rastgeleSayilar3.argmax())\n",
    "# 13- (10-20) arasındaki sayıları içeren dizinin ilk 3 elemanını seçiniz.\n",
    "rastgeleSayilar4 = np.random.randint(10,20,size=8)\n",
    "print(rastgeleSayilar4[:3])\n",
    "# 14- Üretilen dizinin elemanlarını tersten yazdırın.\n",
    "print(rastgeleSayilar4[::-1])\n",
    "# 15- Üretilen matrisin ilk satırını seçiniz.\n",
    "print(rastgeleSayilar3[0])\n",
    "# 16- Üretilen matrisin 2.satır 3.sütundaki elemanı hangisidir ?\n",
    "print(rastgeleSayilar3[1,2])\n",
    "# 17- Üretilen matrisin tüm satırlardaki ilk elemanı seçiniz.\n",
    "print(rastgeleSayilar3[:,0])\n",
    "# 18- Üretilen matrisin her bir elemanının karesini alınız.\n",
    "print(rastgeleSayilar3**2)\n",
    "# 19- Üretilen matris elemanlarının hangisi pozitif çift sayıdır ? Aralığı (-50,+50) arasında yapınız.\n",
    "rastgeleSayilar5 = np.random.randint(-50,50,size=[3,5])\n",
    "print((rastgeleSayilar5>0) & (rastgeleSayilar5%2==0))\n"
   ]
  }
 ],
 "metadata": {
  "kernelspec": {
   "display_name": "Python 3",
   "language": "python",
   "name": "python3"
  },
  "language_info": {
   "codemirror_mode": {
    "name": "ipython",
    "version": 3
   },
   "file_extension": ".py",
   "mimetype": "text/x-python",
   "name": "python",
   "nbconvert_exporter": "python",
   "pygments_lexer": "ipython3",
   "version": "3.11.1"
  },
  "orig_nbformat": 4,
  "vscode": {
   "interpreter": {
    "hash": "5026d2d6e7aaaaba093def813beadff083d8733e4a511af01735cbabd156995d"
   }
  }
 },
 "nbformat": 4,
 "nbformat_minor": 2
}
