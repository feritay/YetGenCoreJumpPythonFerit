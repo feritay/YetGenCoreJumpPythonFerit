{
 "cells": [
  {
   "cell_type": "markdown",
   "metadata": {},
   "source": [
    "# Problem 1\n",
    "`ogrenciler` adında bir sözlük oluşturunuz. Kullanıcıdan döngü yardımıyla 3 öğrenci için veri girmesini isteyerek öğrencilerin sırasıyla okul numarası, isim, soy isim, telefon numarası ve doğum tarihi bilgilerini alınız. Aldığınız öğrenci bilgilerini yine aynı döngü yardımıyla `ogrenciler` adındaki sözlükte saklayınız. Daha sonra öğrenci bilgilerinin bulunduğu sözlük yapısını ekrana bastırınız.\n",
    "\n"
   ]
  },
  {
   "cell_type": "code",
   "execution_count": 1,
   "metadata": {},
   "outputs": [
    {
     "name": "stdout",
     "output_type": "stream",
     "text": [
      "1. öğrencinin bilgilerini giriniz:\n",
      "2. öğrencinin bilgilerini giriniz:\n",
      "3. öğrencinin bilgilerini giriniz:\n",
      "Öğrenci bilgileri:\n",
      "{1: {'Okul numarasi:': 151820181131, 'İsim:': 'Ferit Kara', 'Soyisim:': 'Akın', 'Telefon numarasi:': 5441256989, 'Doğum tarihi:': '19 Ekim 1999'}, 2: {'Okul numarasi:': 151820203125, 'İsim:': 'Derya Deren', 'Soyisim:': 'Korkut', 'Telefon numarasi:': 5318751122, 'Doğum tarihi:': '14 Ocak 2000'}, 3: {'Okul numarasi:': 151820193644, 'İsim:': 'Ayşe', 'Soyisim:': 'Mert', 'Telefon numarasi:': 5336552487, 'Doğum tarihi:': '17 Nisan 1999'}}\n"
     ]
    }
   ],
   "source": [
    "# 1.Problemin Çözümünü Buraya Yazınız\n",
    "\n",
    "ogrenciler ={}\n",
    "\n",
    "for i in range(3):\n",
    "    print(f\"{i+1}. öğrencinin bilgilerini giriniz:\")\n",
    "    ogrenci = {}\n",
    "    ogrenci[\"Okul numarasi:\"] = int(input(f\"{i+1}. öğrencinin okul numarasini giriniz:\"))\n",
    "    ogrenci[\"İsim:\"] = (input(f\"{i+1}. öğrencinin ismini giriniz:\"))\n",
    "    ogrenci[\"Soyisim:\"] = (input(f\"{i+1}. öğrencinin soyismini giriniz:\"))\n",
    "    ogrenci[\"Telefon numarasi:\"] = int(input(f\"{i+1}. öğrencinin telefon numarasini giriniz:\"))\n",
    "    ogrenci[\"Doğum tarihi:\"] = (input(f\"{i+1}. öğrencinin doğum tarihini giriniz:\")) \n",
    "\n",
    "    ogrenciler[i+1] = ogrenci\n",
    "\n",
    "print(\"Öğrenci bilgileri:\")\n",
    "print(ogrenciler)  \n",
    "                             "
   ]
  },
  {
   "cell_type": "markdown",
   "metadata": {},
   "source": [
    "# Problem 2\n",
    "\n",
    "### a - Biraz ısınarak başlayalım!\n",
    "\n",
    "```\n",
    "numbers = [5,10,10,15,15,15,20,20,20,20]\n",
    "```\n",
    "\n",
    "Yukarıda `numbers` adında 10 elemanlı bir liste verilmiştir. Bu listenin her elemanını kontrol eden ve tekrar eden elemanları bir kez olacak şekilde başka bir listeye kopyalayan bir program yazınız. Son olarak oluşturduğunuz listeyi ekrana bastırınız.\n",
    "\n",
    "\n",
    "\n",
    "\n",
    "```\n",
    ">Output\n",
    "[5, 10, 15, 20]\n",
    "```\n"
   ]
  },
  {
   "cell_type": "code",
   "execution_count": 2,
   "metadata": {},
   "outputs": [
    {
     "name": "stdout",
     "output_type": "stream",
     "text": [
      "[5, 10, 15, 20]\n"
     ]
    }
   ],
   "source": [
    "# 2.Problemin a Şıkkının Çözümünü Buraya Yazınız\n",
    "\n",
    "numbers = [5,10,10,15,15,15,20,20,20,20]\n",
    "uniqueNumbers = []\n",
    "\n",
    "for i in numbers:\n",
    "    if i not in uniqueNumbers:\n",
    "        uniqueNumbers.append(i)\n",
    "\n",
    "print(uniqueNumbers)\n"
   ]
  },
  {
   "cell_type": "markdown",
   "metadata": {},
   "source": [
    "### 🌶️ b) Hadi işi biraz daha zorlaştıralım! \n",
    "\n",
    "\n",
    "Şimdiyse senden `numbers` isimli listedeki tekrar eden elemanları `repeatNumbers` adındaki listeye; tekrar etmeyen elemanları `uniqueNumbers`adındaki listeye kopyalayan yazmanı ve listeleri ekrana bastırmanı bekliyoruz\n",
    "\n",
    "```\n",
    ">Output\n",
    "Tekrar Eden Elemanlar: [10, 10, 15, 15, 15, 20, 20, 20, 20]\n",
    "Tekrar Etmeyen Elemanlar: [5]\n",
    "```"
   ]
  },
  {
   "cell_type": "code",
   "execution_count": 10,
   "metadata": {},
   "outputs": [
    {
     "name": "stdout",
     "output_type": "stream",
     "text": [
      "Tekrar Eden Elemanlar: [10, 10, 15, 15, 15, 20, 20, 20, 20]\n",
      "Tekrar Etmeyen Elemanlar: [5]\n"
     ]
    }
   ],
   "source": [
    "# 2.Problemin b Şıkkının Çözümünü Buraya Yazınız\n",
    "\n",
    "numbers = [5,10,10,15,15,15,20,20,20,20]\n",
    "uniqueNumbers = []\n",
    "repeatNumbers =[]\n",
    "\n",
    "for i in numbers:\n",
    "    if numbers.count(i) > 1:\n",
    "        repeatNumbers.append(i)\n",
    "    else:\n",
    "        uniqueNumbers.append(i)\n",
    "\n",
    "print(f\"Tekrar Eden Elemanlar: {repeatNumbers}\")\n",
    "print(f\"Tekrar Etmeyen Elemanlar: {uniqueNumbers}\")\n"
   ]
  },
  {
   "cell_type": "markdown",
   "metadata": {},
   "source": [
    "# Problem 3\n",
    "sn1 = {1,2,3,4,5}\n",
    "\n",
    "sn2 = {4,5,6,7,8}\n",
    "\n",
    " Verilen 2 adet küme için kesişimlerini, farklarını ve birleşimlerini bulunuz. "
   ]
  },
  {
   "cell_type": "code",
   "execution_count": 11,
   "metadata": {},
   "outputs": [
    {
     "name": "stdout",
     "output_type": "stream",
     "text": [
      "Kesişim:  {4, 5}\n",
      "1. kümenin 2. kümeden farki:  {1, 2, 3}\n",
      "2. kümenin 1. kümeden farki:  {8, 6, 7}\n",
      "Birleşim:  {1, 2, 3, 4, 5, 6, 7, 8}\n"
     ]
    }
   ],
   "source": [
    "# 3.Problemin Çözümünü Buraya Yazınız\n",
    "\n",
    "sn1 = {1,2,3,4,5}\n",
    "sn2 = {4,5,6,7,8}\n",
    "\n",
    "kesisim = sn1 & sn2\n",
    "fark1 = sn1 - sn2\n",
    "fark2 = sn2 - sn1\n",
    "birlesim = sn1 | sn2\n",
    "\n",
    "print(\"Kesişim: \", kesisim)\n",
    "print(\"1. kümenin 2. kümeden farki: \", fark1)\n",
    "print(\"2. kümenin 1. kümeden farki: \", fark2)\n",
    "print(\"Birleşim: \", birlesim)\n"
   ]
  },
  {
   "cell_type": "markdown",
   "metadata": {},
   "source": [
    "# Problem 4\n",
    "\n",
    "Buradaki işlemlerimizin tamamı stringler içindir. Aşağıda verilecek olan metodlar için kendinizin örnek yaratması gerekmektedir. \n",
    "\n",
    "Örneğin `upper` için `string` değişkeni oluştururken` k = \"BAC\"` şeklinde oluşturmayınız. Bunun yerine k değişkenini `k = \"bac`\" şeklinde oluşturmanız `upper` metodundaki değişimi görebilmeniz için daha iyi olacaktır.\n",
    "\n",
    "Bütün metodlardaki değişimin gözle görülür şekilde değişimi beklenmektedir.\n",
    "\n",
    "\n",
    "1- capitalize(), lower(), upper(), swapcase(), title(), replace()\n",
    "\n",
    "2- endswith(), startswith(), find(), index(), count()\n",
    "\n",
    "3- split(), strip(), join(), islower(), isalpha(), isdigit()\n",
    "\n",
    "\n",
    "Yukarıdaki `string` metodlarındaki değişimleri görebildiğimiz bir program yazınız.\n"
   ]
  },
  {
   "cell_type": "code",
   "execution_count": 22,
   "metadata": {},
   "outputs": [
    {
     "name": "stdout",
     "output_type": "stream",
     "text": [
      "capitalize(): Istanbul\n",
      "lower(): ci̇mbom\n",
      "upper(): ASLAN\n",
      "swapcase(): GaLaTaSaRaY\n",
      "title(): En Büyük Cimbom!\n",
      "replace(): Fatih Terim\n",
      "\n",
      "endswith(): False\n",
      "endswith(): True\n",
      "startswith(): False\n",
      "startswith(): True\n",
      "find(): 8\n",
      "index(): 8\n",
      "count(): 3\n",
      "\n",
      "split(): ['Biraz', 'daha', 'sabir', 'çok', 'az', 'kaldi.']\n",
      "strip(): Biraz daha sabir çok az kaldi.\n",
      "join(): YetGen kültürü çok başka!\n",
      "islower(): True\n",
      "islower(): False\n",
      "isalpha(): True\n",
      "isalpha(): False\n",
      "isdigit(): True\n",
      "isdigit(): False\n"
     ]
    }
   ],
   "source": [
    "# 4.Problemin Çözümünü Buraya Yazınız\n",
    "\n",
    "# 1- capitalize(), lower(), upper(), swapcase(), title(), replace()\n",
    "\n",
    "degisken0 = \"istanbul\"\n",
    "print(\"capitalize():\", degisken0.capitalize())\n",
    "\n",
    "degisken1 = \"CİMBOM\"\n",
    "print(\"lower():\", degisken1.lower())\n",
    "\n",
    "degisken2 = \"aslan\"\n",
    "print(\"upper():\", degisken2.upper())\n",
    "\n",
    "degisken3 = \"gAlAtAsArAy\"\n",
    "print(\"swapcase():\", degisken3.swapcase())\n",
    "\n",
    "degisken4 = \"en büyük cimbom!\"\n",
    "print(\"title():\", degisken4.title())\n",
    "\n",
    "degisken5 = \"Imparator Terim\"\n",
    "print(\"replace():\", degisken5.replace(\"Imparator\",\"Fatih\"))\n",
    "print()\n",
    "\n",
    "# 2- endswith(), startswith(), find(), index(), count()\n",
    "\n",
    "degisken6 = \"Her şey çok güzel olacak!\"\n",
    "\n",
    "print(\"endswith():\", degisken6.endswith(\"güzel\"))\n",
    "print(\"endswith():\", degisken6.endswith(\"olacak!\"))\n",
    "\n",
    "print(\"startswith():\", degisken6.startswith(\"şey\"))\n",
    "print(\"startswith():\", degisken6.startswith(\"Her\"))\n",
    "\n",
    "print(\"find():\", degisken6.find(\"çok\"))\n",
    "\n",
    "print(\"index():\", degisken6.index(\"çok\"))\n",
    "\n",
    "print(\"count():\", degisken6.count(\"e\"))\n",
    "print()\n",
    "\n",
    "# 3- split(), strip(), join(), islower(), isalpha(), isdigit()\n",
    "\n",
    "degisken7 = \" Biraz daha sabir çok az kaldi. \"\n",
    "\n",
    "print(\"split():\", degisken7.split())\n",
    "\n",
    "print(\"strip():\", degisken7.strip())\n",
    "\n",
    "liste = [\"YetGen\", \"kültürü\", \"çok\", \"başka!\"]\n",
    "print(\"join():\", \" \".join(liste))\n",
    "\n",
    "degisken8 = \"geçen yaz çok güzeldi\"\n",
    "degisken9 = \"HAVA ÇOK GÜZEL\"\n",
    "print(\"islower():\", degisken8.islower())\n",
    "print(\"islower():\", degisken9.islower())\n",
    "\n",
    "degisken10 = \"Akşamboşmusun\"\n",
    "degisken11 = \"Akşam 8'de işin var mi?\"\n",
    "print(\"isalpha():\", degisken10.isalpha())\n",
    "print(\"isalpha():\", degisken11.isalpha())\n",
    "\n",
    "degisken12 = \"123456789\"\n",
    "degisken13 = \"Kart123456789\"\n",
    "print(\"isdigit():\", degisken12.isdigit())\n",
    "print(\"isdigit():\", degisken13.isdigit())\n"
   ]
  }
 ],
 "metadata": {
  "kernelspec": {
   "display_name": "Python 3.10.5 64-bit",
   "language": "python",
   "name": "python3"
  },
  "language_info": {
   "codemirror_mode": {
    "name": "ipython",
    "version": 3
   },
   "file_extension": ".py",
   "mimetype": "text/x-python",
   "name": "python",
   "nbconvert_exporter": "python",
   "pygments_lexer": "ipython3",
   "version": "3.11.1"
  },
  "orig_nbformat": 4,
  "vscode": {
   "interpreter": {
    "hash": "5026d2d6e7aaaaba093def813beadff083d8733e4a511af01735cbabd156995d"
   }
  }
 },
 "nbformat": 4,
 "nbformat_minor": 2
}
