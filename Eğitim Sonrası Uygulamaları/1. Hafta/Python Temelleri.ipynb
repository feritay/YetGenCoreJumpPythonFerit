{
 "cells": [
  {
   "attachments": {},
   "cell_type": "markdown",
   "metadata": {},
   "source": [
    "# 1.Başlık\n",
    "## 2.Başlık\n",
    "### 3.Başlık\n",
    "#### 4.Başlık\n",
    "##### 5.Başlık\n",
    "###### 6.Başlık "
   ]
  },
  {
   "attachments": {},
   "cell_type": "markdown",
   "metadata": {},
   "source": [
    "**kalın**\n",
    "\n",
    "*italik*"
   ]
  },
  {
   "attachments": {},
   "cell_type": "markdown",
   "metadata": {},
   "source": [
    "[GitHub My Page](https://github.com/feritay/)"
   ]
  },
  {
   "attachments": {},
   "cell_type": "markdown",
   "metadata": {},
   "source": [
    "![Image](https://media.tenor.com/StDUfEak8SkAAAAC/mauro-icardi-mauro.gif)"
   ]
  },
  {
   "attachments": {},
   "cell_type": "markdown",
   "metadata": {},
   "source": [
    "- 1. Madde\n",
    "- 2. Madde\n",
    "   - 2.1. Madde"
   ]
  },
  {
   "attachments": {},
   "cell_type": "markdown",
   "metadata": {},
   "source": [
    "1. Sayı\n",
    "2. Sayı\n",
    "3. Sayı"
   ]
  }
 ],
 "metadata": {
  "kernelspec": {
   "display_name": "Python 3",
   "language": "python",
   "name": "python3"
  },
  "language_info": {
   "codemirror_mode": {
    "name": "ipython",
    "version": 3
   },
   "file_extension": ".py",
   "mimetype": "text/x-python",
   "name": "python",
   "nbconvert_exporter": "python",
   "pygments_lexer": "ipython3",
   "version": "3.11.1"
  },
  "orig_nbformat": 4,
  "vscode": {
   "interpreter": {
    "hash": "98dea7dafdcb773d23472d168dba9929b4dfb5788995bf78bec827532069a3c4"
   }
  }
 },
 "nbformat": 4,
 "nbformat_minor": 2
}
