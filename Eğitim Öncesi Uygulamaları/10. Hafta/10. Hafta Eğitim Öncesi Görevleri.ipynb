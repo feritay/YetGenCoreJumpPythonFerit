{
 "cells": [
  {
   "attachments": {},
   "cell_type": "markdown",
   "metadata": {},
   "source": [
    "# Problem 1"
   ]
  },
  {
   "cell_type": "code",
   "execution_count": 3,
   "metadata": {},
   "outputs": [
    {
     "name": "stdout",
     "output_type": "stream",
     "text": [
      "Collecting numpy\n",
      "  Downloading numpy-1.24.3-cp311-cp311-win_amd64.whl (14.8 MB)\n",
      "     ---------------------------------------- 14.8/14.8 MB 9.5 MB/s eta 0:00:00\n",
      "Installing collected packages: numpy\n",
      "Successfully installed numpy-1.24.3\n",
      "Note: you may need to restart the kernel to use updated packages.\n"
     ]
    },
    {
     "name": "stderr",
     "output_type": "stream",
     "text": [
      "\n",
      "[notice] A new release of pip available: 22.3.1 -> 23.1\n",
      "[notice] To update, run: python.exe -m pip install --upgrade pip\n"
     ]
    }
   ],
   "source": [
    "pip install numpy"
   ]
  },
  {
   "cell_type": "code",
   "execution_count": 4,
   "metadata": {},
   "outputs": [
    {
     "name": "stdout",
     "output_type": "stream",
     "text": [
      "Matris:  [6 3 8 3 0]\n",
      "Matris Boyutu:  (5,)\n",
      "Yeniden Boyutlanmiş Matris: \n",
      " [[6]\n",
      " [3]\n",
      " [8]\n",
      " [3]\n",
      " [0]]\n",
      "Matris Boyut Sayisi:  1\n"
     ]
    }
   ],
   "source": [
    "# 1 - numpy kütüphanesini import edin\n",
    "# 2 - 0 ile 10 arasında 5 sayıdan oluşan matris üretin\n",
    "# 3 - matris'in boyutunu öğrenin\n",
    "# 4 - matris'i yeniden boyutlandırın\n",
    "# 5 - matris'in boyut sayısını öğrenin\n",
    "\n",
    "import numpy as np\n",
    "\n",
    "matris = np.random.randint(0, 11, size=(5))\n",
    "boyut = matris.shape\n",
    "yeniden_boyutlanmis_matris = matris.reshape(5, 1)\n",
    "boyut_sayisi = matris.ndim\n",
    "\n",
    "print(\"Matris: \", matris)\n",
    "print(\"Matris Boyutu: \", boyut)\n",
    "print(\"Yeniden Boyutlanmiş Matris: \\n\", yeniden_boyutlanmis_matris)\n",
    "print(\"Matris Boyut Sayisi: \", boyut_sayisi)\n"
   ]
  },
  {
   "attachments": {},
   "cell_type": "markdown",
   "metadata": {},
   "source": [
    "# Problem 2"
   ]
  },
  {
   "cell_type": "code",
   "execution_count": 13,
   "metadata": {},
   "outputs": [
    {
     "name": "stdout",
     "output_type": "stream",
     "text": [
      "Oluşturulan matris:\n",
      " [[1]\n",
      " [3]\n",
      " [5]\n",
      " [7]\n",
      " [9]]\n",
      "Parçalanan matrisler:\n",
      " [array([[1],\n",
      "       [3]]), array([[5]]), array([[7],\n",
      "       [9]])]\n",
      "Birleştirilmiş matris:\n",
      " [[1]\n",
      " [3]\n",
      " [5]\n",
      " [7]\n",
      " [9]]\n"
     ]
    }
   ],
   "source": [
    "# 1 - 0 ile 10 arasında bulunan tek sayılardan oluşan matris üretin\n",
    "# 2 - Oluşturduğunuz matrisi parçalayın\n",
    "# 3 - Parçalanmış matrisleri birleştirin\n",
    "\n",
    "import numpy as np\n",
    "\n",
    "matrix = np.arange(1, 10, 2).reshape(5, -1)\n",
    "print(\"Oluşturulan matris:\\n\", matrix)\n",
    "\n",
    "pieces = np.split(matrix, [2, 3], axis=0)\n",
    "print(\"Parçalanan matrisler:\\n\", pieces)\n",
    "\n",
    "merged_matrix = np.concatenate(pieces, axis=0)\n",
    "print(\"Birleştirilmiş matris:\\n\", merged_matrix)\n"
   ]
  },
  {
   "attachments": {},
   "cell_type": "markdown",
   "metadata": {},
   "source": [
    "# Problem 3"
   ]
  },
  {
   "cell_type": "code",
   "execution_count": 7,
   "metadata": {},
   "outputs": [
    {
     "name": "stdout",
     "output_type": "stream",
     "text": [
      "[[43 83]\n",
      " [21 77]\n",
      " [49 13]\n",
      " [61 37]\n",
      " [29 79]]\n",
      "Shape:  (5, 2)\n",
      "Dimension:  2\n",
      "Data Type:  int32\n",
      "Size:  10\n",
      "Max Value:  83\n",
      "Min Value:  13\n",
      "Mean Value:  49.2\n"
     ]
    }
   ],
   "source": [
    "# 1 - 5 ile 100 arasında ikişer ikişer atlayarak rastgele 10 sayıdan oluşan matris üretin\n",
    "# 2 - matris'in özelliklerini inceleyin\n",
    "\n",
    "import numpy as np\n",
    "\n",
    "matrix = np.arange(5, 101, 2)\n",
    "np.random.shuffle(matrix)\n",
    "matrix = matrix[:10].reshape(5,2)\n",
    "print(matrix)\n",
    "\n",
    "print(\"Shape: \", matrix.shape)\n",
    "print(\"Dimension: \", matrix.ndim)\n",
    "print(\"Data Type: \", matrix.dtype)\n",
    "print(\"Size: \", matrix.size)\n",
    "print(\"Max Value: \", matrix.max())\n",
    "print(\"Min Value: \", matrix.min())\n",
    "print(\"Mean Value: \", matrix.mean())\n"
   ]
  }
 ],
 "metadata": {
  "kernelspec": {
   "display_name": "Python 3",
   "language": "python",
   "name": "python3"
  },
  "language_info": {
   "codemirror_mode": {
    "name": "ipython",
    "version": 3
   },
   "file_extension": ".py",
   "mimetype": "text/x-python",
   "name": "python",
   "nbconvert_exporter": "python",
   "pygments_lexer": "ipython3",
   "version": "3.11.1"
  },
  "orig_nbformat": 4,
  "vscode": {
   "interpreter": {
    "hash": "5026d2d6e7aaaaba093def813beadff083d8733e4a511af01735cbabd156995d"
   }
  }
 },
 "nbformat": 4,
 "nbformat_minor": 2
}
