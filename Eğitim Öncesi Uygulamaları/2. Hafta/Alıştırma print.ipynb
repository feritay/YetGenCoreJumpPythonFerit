{
 "cells": [
  {
   "cell_type": "code",
   "execution_count": 1,
   "metadata": {},
   "outputs": [
    {
     "name": "stdout",
     "output_type": "stream",
     "text": [
      "Hello World\n"
     ]
    }
   ],
   "source": [
    "print(\"Hello World\")"
   ]
  },
  {
   "cell_type": "code",
   "execution_count": 2,
   "metadata": {},
   "outputs": [
    {
     "name": "stdout",
     "output_type": "stream",
     "text": [
      "Hello World\n"
     ]
    }
   ],
   "source": [
    "print('Hello World')"
   ]
  },
  {
   "cell_type": "code",
   "execution_count": 3,
   "metadata": {},
   "outputs": [
    {
     "name": "stdout",
     "output_type": "stream",
     "text": [
      "Hello World\n"
     ]
    }
   ],
   "source": [
    "print(\"\"\"Hello World\"\"\")"
   ]
  },
  {
   "cell_type": "code",
   "execution_count": 4,
   "metadata": {},
   "outputs": [
    {
     "data": {
      "text/plain": [
       "'Hello World'"
      ]
     },
     "execution_count": 4,
     "metadata": {},
     "output_type": "execute_result"
    }
   ],
   "source": [
    "\"Hello World\""
   ]
  },
  {
   "cell_type": "code",
   "execution_count": 7,
   "metadata": {},
   "outputs": [
    {
     "name": "stdout",
     "output_type": "stream",
     "text": [
      "Python öğreniyorum.\n",
      "Python'a ilk adımımı YetGen ile atıyorum.\n"
     ]
    }
   ],
   "source": [
    "print(\"Python öğreniyorum.\")\n",
    "print(\"Python'a ilk adımımı YetGen ile atıyorum.\")"
   ]
  },
  {
   "cell_type": "code",
   "execution_count": 8,
   "metadata": {},
   "outputs": [
    {
     "data": {
      "text/plain": [
       "\"Python'a ilk adımımı YetGen ile atıyorum.\""
      ]
     },
     "execution_count": 8,
     "metadata": {},
     "output_type": "execute_result"
    }
   ],
   "source": [
    "\"Python öğreniyorum.\"\n",
    "\"Python'a ilk adımımı YetGen ile atıyorum.\""
   ]
  },
  {
   "cell_type": "code",
   "execution_count": 10,
   "metadata": {},
   "outputs": [
    {
     "name": "stdout",
     "output_type": "stream",
     "text": [
      "Hello , World\n"
     ]
    }
   ],
   "source": [
    "print(\"Hello \", \" World\", sep=\",\")"
   ]
  },
  {
   "cell_type": "code",
   "execution_count": 12,
   "metadata": {},
   "outputs": [
    {
     "name": "stdout",
     "output_type": "stream",
     "text": [
      "Python  öğreniyorum.\n"
     ]
    }
   ],
   "source": [
    "print(\"Python \", \" öğreniyorum.\", sep=\"\")"
   ]
  },
  {
   "cell_type": "code",
   "execution_count": 15,
   "metadata": {},
   "outputs": [
    {
     "name": "stdout",
     "output_type": "stream",
     "text": [
      " Ankara / İzmir / İstanbul \n"
     ]
    }
   ],
   "source": [
    "print(\" Ankara \", \" İzmir \", \" İstanbul \", sep=\"/\")"
   ]
  },
  {
   "cell_type": "code",
   "execution_count": 17,
   "metadata": {},
   "outputs": [
    {
     "name": "stdout",
     "output_type": "stream",
     "text": [
      "YetGen Python Eğitimi'ne hoş geldim."
     ]
    }
   ],
   "source": [
    "print(\"YetGen Python Eğitimi'ne hoş geldim\", end=\".\")"
   ]
  },
  {
   "cell_type": "code",
   "execution_count": 18,
   "metadata": {},
   "outputs": [
    {
     "name": "stdout",
     "output_type": "stream",
     "text": [
      "Python'a ilk adımımı attım"
     ]
    }
   ],
   "source": [
    "print(\"Python'a ilk adımımı attım\", end=\"\")"
   ]
  },
  {
   "cell_type": "code",
   "execution_count": 19,
   "metadata": {},
   "outputs": [
    {
     "name": "stdout",
     "output_type": "stream",
     "text": [
      "Python'a hoş geldim.\n"
     ]
    }
   ],
   "source": [
    "print(\"Python'a hoş geldim.\")"
   ]
  },
  {
   "cell_type": "code",
   "execution_count": 20,
   "metadata": {},
   "outputs": [
    {
     "name": "stdout",
     "output_type": "stream",
     "text": [
      "Dünya'nın en iyi golcüsü Mauro İcardi!\n"
     ]
    }
   ],
   "source": [
    "print(\"Dünya'nın en iyi golcüsü Mauro İcardi!\") # print() fonksiyonu ekrana baskı yapmayı sağlar."
   ]
  },
  {
   "cell_type": "code",
   "execution_count": 21,
   "metadata": {},
   "outputs": [
    {
     "name": "stdout",
     "output_type": "stream",
     "text": [
      "YetGen Jump\n",
      "YetGen Jump\n",
      "YetGen Jump\n"
     ]
    }
   ],
   "source": [
    "print(\"YetGen Jump\")\n",
    "print(\"YetGen Jump\")\n",
    "print(\"YetGen Jump\")"
   ]
  },
  {
   "cell_type": "code",
   "execution_count": 23,
   "metadata": {},
   "outputs": [
    {
     "name": "stdout",
     "output_type": "stream",
     "text": [
      "YetGen Jump\n",
      "YetGen Jump\n",
      "YetGen Jump\n"
     ]
    }
   ],
   "source": [
    "yetgen = \"YetGen Jump\"\n",
    "\n",
    "print(yetgen)\n",
    "print(yetgen)\n",
    "print(yetgen)"
   ]
  },
  {
   "cell_type": "code",
   "execution_count": 24,
   "metadata": {},
   "outputs": [
    {
     "name": "stdout",
     "output_type": "stream",
     "text": [
      "Ferit Ay\n",
      "Ferit Ay\n"
     ]
    }
   ],
   "source": [
    "isimSoyisim = \"Ferit Ay\"\n",
    "isim_soyisim = \"Ferit Ay\"\n",
    "\n",
    "print(isimSoyisim)\n",
    "print(isim_soyisim)"
   ]
  },
  {
   "cell_type": "code",
   "execution_count": 26,
   "metadata": {},
   "outputs": [
    {
     "name": "stdout",
     "output_type": "stream",
     "text": [
      "<class 'str'>\n"
     ]
    }
   ],
   "source": [
    "print(type(\"Ferit\")) # String - Yazı karakteri"
   ]
  },
  {
   "cell_type": "code",
   "execution_count": 28,
   "metadata": {},
   "outputs": [
    {
     "name": "stdout",
     "output_type": "stream",
     "text": [
      "<class 'int'>\n"
     ]
    }
   ],
   "source": [
    "type(24)\n",
    "print(type(24)) # İnteger - Tam sayı"
   ]
  },
  {
   "cell_type": "code",
   "execution_count": 51,
   "metadata": {},
   "outputs": [
    {
     "data": {
      "text/plain": [
       "bool"
      ]
     },
     "execution_count": 51,
     "metadata": {},
     "output_type": "execute_result"
    }
   ],
   "source": [
    "type(True) # Boolean - 1/0 Doğru/Yanlış"
   ]
  },
  {
   "cell_type": "code",
   "execution_count": 31,
   "metadata": {},
   "outputs": [
    {
     "data": {
      "text/plain": [
       "float"
      ]
     },
     "execution_count": 31,
     "metadata": {},
     "output_type": "execute_result"
    }
   ],
   "source": [
    "type(3.14) # Float - Ondalık sayı"
   ]
  },
  {
   "cell_type": "code",
   "execution_count": 33,
   "metadata": {},
   "outputs": [],
   "source": [
    "a = 24\n",
    "b = 7"
   ]
  },
  {
   "cell_type": "code",
   "execution_count": 34,
   "metadata": {},
   "outputs": [
    {
     "name": "stdout",
     "output_type": "stream",
     "text": [
      "31\n"
     ]
    }
   ],
   "source": [
    "print(a+b)"
   ]
  },
  {
   "cell_type": "code",
   "execution_count": 35,
   "metadata": {},
   "outputs": [
    {
     "name": "stdout",
     "output_type": "stream",
     "text": [
      "17\n"
     ]
    }
   ],
   "source": [
    "print(a-b)"
   ]
  },
  {
   "cell_type": "code",
   "execution_count": 36,
   "metadata": {},
   "outputs": [
    {
     "name": "stdout",
     "output_type": "stream",
     "text": [
      "168\n"
     ]
    }
   ],
   "source": [
    "print(a*b)"
   ]
  },
  {
   "cell_type": "code",
   "execution_count": 37,
   "metadata": {},
   "outputs": [
    {
     "name": "stdout",
     "output_type": "stream",
     "text": [
      "3.4285714285714284\n"
     ]
    }
   ],
   "source": [
    "print(a/b)"
   ]
  },
  {
   "cell_type": "code",
   "execution_count": 39,
   "metadata": {},
   "outputs": [
    {
     "name": "stdout",
     "output_type": "stream",
     "text": [
      "4586471424\n"
     ]
    }
   ],
   "source": [
    "print(a**b) # a üssü b"
   ]
  },
  {
   "cell_type": "code",
   "execution_count": 40,
   "metadata": {},
   "outputs": [
    {
     "name": "stdout",
     "output_type": "stream",
     "text": [
      "3\n"
     ]
    }
   ],
   "source": [
    "print(a%b) # mod alma - kalanı bulma"
   ]
  },
  {
   "cell_type": "code",
   "execution_count": 42,
   "metadata": {},
   "outputs": [
    {
     "name": "stdout",
     "output_type": "stream",
     "text": [
      "3\n"
     ]
    }
   ],
   "source": [
    "print(a//b) # tam bölme - bölümü bulma"
   ]
  },
  {
   "cell_type": "code",
   "execution_count": 47,
   "metadata": {},
   "outputs": [
    {
     "name": "stdout",
     "output_type": "stream",
     "text": [
      "Python öğreniyorum\n",
      " \n",
      "y\n",
      "m\n"
     ]
    }
   ],
   "source": [
    "degisken = \"Python öğreniyorum\" # İndeks - 0' dan başlar, yazıdaki boşluk dahil her karakteri tanımlar ve bulur\n",
    "\n",
    "print(degisken)\n",
    "print(degisken[6])\n",
    "print(degisken[1])\n",
    "print(degisken[-1])\n"
   ]
  },
  {
   "cell_type": "code",
   "execution_count": 50,
   "metadata": {},
   "outputs": [
    {
     "name": "stdout",
     "output_type": "stream",
     "text": [
      "Ferit Ay\n",
      "Ferit   Ay 25\n",
      "Ferit Ay 25\n"
     ]
    }
   ],
   "source": [
    "isim = \"Ferit\"\n",
    "soyisim = \"Ay\"\n",
    "yas = 25\n",
    "\n",
    "print(isim + \" \" + soyisim)\n",
    "print(isim, \" \", soyisim, yas)\n",
    "print(f\"{isim} {soyisim} {yas}\")"
   ]
  },
  {
   "cell_type": "code",
   "execution_count": 52,
   "metadata": {},
   "outputs": [
    {
     "name": "stdout",
     "output_type": "stream",
     "text": [
      "MerhabaFerit\n",
      "Merhaba Ferit\n",
      "Merhaba Ferit\n"
     ]
    }
   ],
   "source": [
    "isim = input(\"İsim giriniz: \") # Kullanıcı girdi yapar\n",
    "\n",
    "print(\"Merhaba\" + isim)\n",
    "print(\"Merhaba\" , isim)\n",
    "print(f\"Merhaba {isim}\")"
   ]
  },
  {
   "cell_type": "code",
   "execution_count": 58,
   "metadata": {},
   "outputs": [
    {
     "name": "stdout",
     "output_type": "stream",
     "text": [
      "247\n",
      "31\n"
     ]
    }
   ],
   "source": [
    "sayi1 = input(\"Birinci sayiyi giriniz: \") # İnput sitring kabul şekli\n",
    "sayi2 = input(\"Ikinci sayyi giriniz: \")\n",
    "\n",
    "print(sayi1 + sayi2)\n",
    "\n",
    "sayi3 = int(input(\"Ucuncu sayiyi giriniz: \")) # İnput integer kabul şekli\n",
    "sayi4 = int(input(\"Dorduncu sayyi giriniz: \"))\n",
    "\n",
    "print(sayi3 + sayi4)"
   ]
  },
  {
   "cell_type": "code",
   "execution_count": 61,
   "metadata": {},
   "outputs": [
    {
     "name": "stdout",
     "output_type": "stream",
     "text": [
      "24 + 7 = 31\n"
     ]
    }
   ],
   "source": [
    "print(f\"{sayi3} + {sayi4} = {sayi3 + sayi4}\")"
   ]
  }
 ],
 "metadata": {
  "kernelspec": {
   "display_name": "Python 3",
   "language": "python",
   "name": "python3"
  },
  "language_info": {
   "codemirror_mode": {
    "name": "ipython",
    "version": 3
   },
   "file_extension": ".py",
   "mimetype": "text/x-python",
   "name": "python",
   "nbconvert_exporter": "python",
   "pygments_lexer": "ipython3",
   "version": "3.11.1"
  },
  "orig_nbformat": 4,
  "vscode": {
   "interpreter": {
    "hash": "98dea7dafdcb773d23472d168dba9929b4dfb5788995bf78bec827532069a3c4"
   }
  }
 },
 "nbformat": 4,
 "nbformat_minor": 2
}
