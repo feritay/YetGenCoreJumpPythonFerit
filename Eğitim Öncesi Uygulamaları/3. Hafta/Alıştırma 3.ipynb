{
 "cells": [
  {
   "cell_type": "code",
   "execution_count": 1,
   "metadata": {},
   "outputs": [],
   "source": [
    "a, b, c, d = 5, 5, 10, 4"
   ]
  },
  {
   "cell_type": "code",
   "execution_count": 2,
   "metadata": {},
   "outputs": [
    {
     "name": "stdout",
     "output_type": "stream",
     "text": [
      "True\n",
      "False\n"
     ]
    }
   ],
   "source": [
    "#== ifadesi eşit mi sorusunu sorar\n",
    "print(a == b) #True\n",
    "print(a == c) #False\n"
   ]
  },
  {
   "cell_type": "code",
   "execution_count": 3,
   "metadata": {},
   "outputs": [
    {
     "name": "stdout",
     "output_type": "stream",
     "text": [
      "False\n"
     ]
    }
   ],
   "source": [
    "#= ifedesi değer atar\n",
    "username = \"admin\"\n",
    "password = \"12345\"\n",
    "print(\"berkcan\" == username) #False"
   ]
  },
  {
   "cell_type": "code",
   "execution_count": 4,
   "metadata": {},
   "outputs": [
    {
     "name": "stdout",
     "output_type": "stream",
     "text": [
      "False\n",
      "True\n"
     ]
    }
   ],
   "source": [
    "#!= ifadesi eşit değil mi sorusunu sorar\n",
    "print(a != b) #False\n",
    "print(a != d) #True"
   ]
  },
  {
   "cell_type": "code",
   "execution_count": 5,
   "metadata": {},
   "outputs": [
    {
     "name": "stdout",
     "output_type": "stream",
     "text": [
      "False\n"
     ]
    }
   ],
   "source": [
    "#> ifadesi büyük müdür sorusunu sorar\n",
    "print(a > b) #False"
   ]
  },
  {
   "cell_type": "code",
   "execution_count": 6,
   "metadata": {},
   "outputs": [
    {
     "name": "stdout",
     "output_type": "stream",
     "text": [
      "False\n"
     ]
    }
   ],
   "source": [
    "#< ifadesi küçük müdür sorusunu sorar\n",
    "print(a < b) #False"
   ]
  },
  {
   "cell_type": "code",
   "execution_count": 7,
   "metadata": {},
   "outputs": [
    {
     "name": "stdout",
     "output_type": "stream",
     "text": [
      "True\n"
     ]
    }
   ],
   "source": [
    "#>= ifadesi büyük veya eşit midir sorusunu sorar\n",
    "print(a >= b) #True"
   ]
  },
  {
   "cell_type": "code",
   "execution_count": 8,
   "metadata": {},
   "outputs": [
    {
     "name": "stdout",
     "output_type": "stream",
     "text": [
      "True\n"
     ]
    }
   ],
   "source": [
    "#<= ifadesiküçük veya eşit midir sorusunu sorar\n",
    "print(a <= b) #True"
   ]
  },
  {
   "cell_type": "code",
   "execution_count": 12,
   "metadata": {},
   "outputs": [
    {
     "name": "stdout",
     "output_type": "stream",
     "text": [
      "1\n",
      "False\n"
     ]
    }
   ],
   "source": [
    "\"\"\"AND OPERATÖRÜ\n",
    "true and true = true\n",
    "false and true = false\n",
    "true and false = false\n",
    "false = false = false\n",
    "Her iki durumda eğer doğruysa True değerini döndürür. Diğer durumlarda hep False değerini döndürür.\"\"\"\n",
    "\n",
    "x = int(input(\"Bir sayi giriniz:\"))\n",
    "print(x)\n",
    "print(x>5 and x<100) #False\n"
   ]
  },
  {
   "cell_type": "code",
   "execution_count": 13,
   "metadata": {},
   "outputs": [
    {
     "name": "stdout",
     "output_type": "stream",
     "text": [
      "True\n"
     ]
    }
   ],
   "source": [
    "hak = 5\n",
    "devamMi = True\n",
    "print(hak>0 and devamMi == True) #True"
   ]
  },
  {
   "cell_type": "code",
   "execution_count": 14,
   "metadata": {},
   "outputs": [
    {
     "name": "stdout",
     "output_type": "stream",
     "text": [
      "5\n",
      "True\n"
     ]
    }
   ],
   "source": [
    "\"\"\"OR OPERATÖRÜ\n",
    "true or true = true\n",
    "false or true = true\n",
    "true or false = true\n",
    "false or false = false\n",
    "Yalnizca 2 durumun yanliş olduğu zaman False diğer her durumda True değer verir.\"\"\"\n",
    "\n",
    "x = int(input(\"Bir sayi giriniz:\"))\n",
    "print(x)\n",
    "print(x>0 or x%2 == 0) #True\n"
   ]
  },
  {
   "cell_type": "code",
   "execution_count": 15,
   "metadata": {},
   "outputs": [
    {
     "name": "stdout",
     "output_type": "stream",
     "text": [
      "False\n"
     ]
    }
   ],
   "source": [
    "print(3>4 or -1>1 ) #False"
   ]
  },
  {
   "cell_type": "code",
   "execution_count": 17,
   "metadata": {},
   "outputs": [
    {
     "name": "stdout",
     "output_type": "stream",
     "text": [
      "False\n"
     ]
    }
   ],
   "source": [
    "\"\"\"NOT OPERATÖRÜ\n",
    "True değerini False\n",
    "False değerini True döndürür.\"\"\"\n",
    "\n",
    "print(not(True))"
   ]
  },
  {
   "cell_type": "code",
   "execution_count": null,
   "metadata": {},
   "outputs": [],
   "source": [
    "\"\"\"KARAR YAPILARI\n",
    "if - koşul: \n",
    "    koşul doğruysa çalişacak kodlar\n",
    "elif - koşul2: \n",
    "    koşul2 doğruysa çalişacak kodlar\n",
    "else - : \n",
    "    koşul ve koşul2 yanlişsa çalişacak kodlar\n",
    "\n",
    "Eğer if bloğu doğruysa diğer durumlara bakilmaz ve if bloğu altindaki kodlar çalişir.\n",
    "else yapisinin kullanilmasi zorunlu değildir olsa da olur olmasa da olur.\n",
    "elif yapisinin kullanilmasi zorunlu değildir olsa da olur olmasada olur.\n",
    "else yapisinin if ve varsa elif yapisinin FALSE olduğu durumda ikinci nihai durum olarak çalişir.\n",
    "elif yapisinin birden çok farkli koşullardan doğacak durumlarin kontrolünü sağlamak için kullaniriz.\"\"\""
   ]
  },
  {
   "cell_type": "code",
   "execution_count": 3,
   "metadata": {},
   "outputs": [
    {
     "name": "stdout",
     "output_type": "stream",
     "text": [
      "Program sonlandi.\n"
     ]
    }
   ],
   "source": [
    "if 1>4:\n",
    "    print(\"If bloğu çalişti.\")\n",
    "print(\"Program sonlandi.\")"
   ]
  },
  {
   "cell_type": "code",
   "execution_count": 6,
   "metadata": {},
   "outputs": [
    {
     "name": "stdout",
     "output_type": "stream",
     "text": [
      "1.sayi 2.sayiya eşittir.\n"
     ]
    }
   ],
   "source": [
    "sayi1 = int(input(\"1.Sayiyi giriniz:\"))\n",
    "sayi2 = int(input(\"2.Sayiyi giriniz:\"))\n",
    "\n",
    "if sayi1>sayi2:\n",
    "    print(\"1.sayi 2.sayidan büyüktür.\")\n",
    "\n",
    "elif sayi1==sayi2:\n",
    "    print(\"1.sayi 2.sayiya eşittir.\")\n",
    "\n",
    "else:\n",
    "    print(\"1.sayi 2.sayidan küçüktür.\")    "
   ]
  },
  {
   "cell_type": "code",
   "execution_count": 9,
   "metadata": {},
   "outputs": [
    {
     "name": "stdout",
     "output_type": "stream",
     "text": [
      "Ironman'i seçtiniz!\n"
     ]
    }
   ],
   "source": [
    "superkahraman = input(\"Bir süper kahraman giriniz:\")\n",
    "\n",
    "if superkahraman==\"Batman\":\n",
    "    print(\"Batman'i seçtiniz!\")\n",
    "elif superkahraman==\"Superman\":\n",
    "    print(\"Superman'i seçtiniz!\")\n",
    "elif superkahraman==\"Ironman\":\n",
    "    print(\"Ironman'i seçtiniz!\")\n",
    "else:\n",
    "    print(\"Bizde böyle bir kahraman bulunmamaktadir.\")\n"
   ]
  },
  {
   "cell_type": "code",
   "execution_count": 10,
   "metadata": {},
   "outputs": [
    {
     "name": "stdout",
     "output_type": "stream",
     "text": [
      "10 sayisi 20 sayisinden küçüktür ve 20 sayisi 30 sayisindan küçüktür.\n"
     ]
    }
   ],
   "source": [
    "a=10\n",
    "b=20\n",
    "c=30\n",
    "\n",
    "if a>b and b>c:\n",
    "    print(f\"{a} sayisi {b} sayisinden büyüktür ve {b} sayisi {c} sayisindan büyüktür.\")\n",
    "elif a<b and b<c:\n",
    "    print(f\"{a} sayisi {b} sayisinden küçüktür ve {b} sayisi {c} sayisindan küçüktür.\")\n",
    "else:\n",
    "    print(\"Bu koşullar tutmadi!\")"
   ]
  },
  {
   "cell_type": "code",
   "execution_count": 11,
   "metadata": {},
   "outputs": [
    {
     "name": "stdout",
     "output_type": "stream",
     "text": [
      "YetGen mezunusunuz. #YetGenBitmez diyerek YetGen'e Dikeylerle devam ediyorsun.\n"
     ]
    }
   ],
   "source": [
    "yetgenMezunu = True\n",
    "\n",
    "if yetgenMezunu:\n",
    "    print(\"YetGen mezunusunuz. #YetGenBitmez diyerek YetGen'e Dikeylerle devam ediyorsun.\")\n",
    "else:\n",
    "    print(\"YetGen mezunu değilsin. Acilen YetGen'e katilmalisin.\")"
   ]
  },
  {
   "cell_type": "code",
   "execution_count": 15,
   "metadata": {},
   "outputs": [
    {
     "name": "stdout",
     "output_type": "stream",
     "text": [
      "3.sayi 5'ten büyüktür.\n",
      "İkinci else\n"
     ]
    }
   ],
   "source": [
    "sayi3=10\n",
    "sayi4=2\n",
    "\n",
    "if sayi3>5:\n",
    "    print(\"3.sayi 5'ten büyüktür.\")\n",
    "    if sayi4>10:\n",
    "        print(\"4.sayi 10'dan büyüktür.\")\n",
    "    else:\n",
    "        print(\"İkinci else\")\n",
    "else:\n",
    "    print(\"Birinci else\")"
   ]
  },
  {
   "cell_type": "code",
   "execution_count": 17,
   "metadata": {},
   "outputs": [
    {
     "name": "stdout",
     "output_type": "stream",
     "text": [
      "Yokmuş.\n"
     ]
    }
   ],
   "source": [
    "isim = \"Ferit\"\n",
    "if \"Furkan\" in isim: #in \"içinde var mı?\" sorusunu sorar.\n",
    "    print(\"Varmiş.\")\n",
    "else:\n",
    "    print(\"Yokmuş.\")"
   ]
  },
  {
   "cell_type": "code",
   "execution_count": 24,
   "metadata": {},
   "outputs": [
    {
     "name": "stdout",
     "output_type": "stream",
     "text": [
      "2 sayisi çifttir.\n"
     ]
    }
   ],
   "source": [
    "sayi = int(input(\"Bir sayi giriniz:\"))\n",
    "\n",
    "if sayi%2 == 0:\n",
    "    print(f\"{sayi} sayisi çifttir.\")\n",
    "else:\n",
    "    print(f\"{sayi} sayisi tektir.\") "
   ]
  },
  {
   "cell_type": "code",
   "execution_count": 27,
   "metadata": {},
   "outputs": [
    {
     "data": {
      "text/plain": [
       "False"
      ]
     },
     "execution_count": 27,
     "metadata": {},
     "output_type": "execute_result"
    }
   ],
   "source": [
    "\"\"\" in operatörü, belirtilen bir değerin, dizi, metin, liste veya demet gibi bir dizinin ögesi olup olmadiğini kontrol eder.\n",
    "True ya da False değeri döndürür.\"\"\"\n",
    "\n",
    "string = \"YetGen\"\n",
    "\"p\" in string"
   ]
  },
  {
   "cell_type": "code",
   "execution_count": 28,
   "metadata": {},
   "outputs": [
    {
     "data": {
      "text/plain": [
       "True"
      ]
     },
     "execution_count": 28,
     "metadata": {},
     "output_type": "execute_result"
    }
   ],
   "source": [
    "\"Y\" in string"
   ]
  },
  {
   "cell_type": "code",
   "execution_count": null,
   "metadata": {},
   "outputs": [],
   "source": [
    "\"\"\"DÖNGÜLER\n",
    "Döngüler, temel olarak, verilen koşullar karşilanana kadar devam eden tekrar eden bir süreçtir.\n",
    "Döngünün koşulu her zaman doğruysa döngü sonsuza kadar devam eder. Buna \"Sonsuz Döngü\" denir. Bu tür döngülere genellikle while döngüsünde rastlariz.\n",
    "Eğer bir döngünün koşulu baştan yanlişsa, bu nedenle döngün çalişmasina izin vermez. Sonra buna \"Sifir Açma Döngüsü\" denir.\"\"\""
   ]
  },
  {
   "cell_type": "code",
   "execution_count": null,
   "metadata": {},
   "outputs": [],
   "source": [
    "\"\"\"For Döngüsü\n",
    "for döngüsü, listelerin, demetlerin, stringlerin ve hatta sözlüklerin üzerinde dolaşmamizi sağlayan bir döngü türüdür. Yapisi şu şekildedir.\"\"\"\n",
    "\n",
    "\"\"\"örnek kullanim\n",
    "for eleman in veriYapisi:\n",
    "    Yapilacak İşlemler\"\"\""
   ]
  },
  {
   "cell_type": "code",
   "execution_count": 30,
   "metadata": {},
   "outputs": [
    {
     "name": "stdout",
     "output_type": "stream",
     "text": [
      "1\n",
      "2\n",
      "3\n",
      "4\n",
      "5\n"
     ]
    }
   ],
   "source": [
    "liste = [1,2,3,4,5]\n",
    "for a in liste:\n",
    "    print(a)"
   ]
  },
  {
   "cell_type": "code",
   "execution_count": 31,
   "metadata": {},
   "outputs": [
    {
     "name": "stdout",
     "output_type": "stream",
     "text": [
      "1\n",
      "4\n",
      "9\n",
      "16\n",
      "25\n"
     ]
    }
   ],
   "source": [
    "for a in liste:\n",
    "    print(a**2)"
   ]
  },
  {
   "cell_type": "code",
   "execution_count": 32,
   "metadata": {},
   "outputs": [
    {
     "name": "stdout",
     "output_type": "stream",
     "text": [
      "Y\n",
      "e\n",
      "t\n",
      "G\n",
      "e\n",
      "n\n",
      " \n",
      "J\n",
      "u\n",
      "m\n",
      "p\n"
     ]
    }
   ],
   "source": [
    "string = \"YetGen Jump\"\n",
    "for string1 in string:\n",
    "    print(string1)"
   ]
  },
  {
   "cell_type": "code",
   "execution_count": 36,
   "metadata": {},
   "outputs": [
    {
     "name": "stdout",
     "output_type": "stream",
     "text": [
      "1\n",
      "4\n",
      "9\n",
      "16\n",
      "25\n"
     ]
    }
   ],
   "source": [
    "sayilar = \"12345\"\n",
    "for x in sayilar:\n",
    "    print(int(x)*int(x))"
   ]
  },
  {
   "cell_type": "code",
   "execution_count": null,
   "metadata": {},
   "outputs": [],
   "source": [
    "\"\"\"While Döngüsü\n",
    "while döngüleri belli bir koşul sağlandiği sürece bloğundaki işlemleri gerçekleştirmeye devam eder. while döngülerinin sona ermesi için koşul durumunun bir süre sonra False olmasi gereklidir.\"\"\"\n",
    "\n",
    "\"\"\"Örnek Kullanim\n",
    "while koşul:\n",
    "    Yapilacak işlemler\"\"\""
   ]
  },
  {
   "cell_type": "code",
   "execution_count": 38,
   "metadata": {},
   "outputs": [
    {
     "name": "stdout",
     "output_type": "stream",
     "text": [
      "Toplam: 55\n"
     ]
    }
   ],
   "source": [
    "sum = 0\n",
    "i = 1\n",
    "\n",
    "while i<11:\n",
    "    sum += i #sum = sum + i\n",
    "    i += 1\n",
    "print(\"Toplam:\", sum)"
   ]
  },
  {
   "cell_type": "code",
   "execution_count": null,
   "metadata": {},
   "outputs": [],
   "source": [
    "\"\"\"range() fonksiyonu\n",
    "range(başlangiç, bitiş, artiş miktari) şeklinde kullanilir.\"\"\""
   ]
  },
  {
   "cell_type": "code",
   "execution_count": 39,
   "metadata": {},
   "outputs": [
    {
     "name": "stdout",
     "output_type": "stream",
     "text": [
      "range(1, 10, 2)\n"
     ]
    }
   ],
   "source": [
    "print(range(1,10,2))"
   ]
  },
  {
   "cell_type": "code",
   "execution_count": 40,
   "metadata": {},
   "outputs": [
    {
     "name": "stdout",
     "output_type": "stream",
     "text": [
      "1\n",
      "3\n",
      "5\n",
      "7\n",
      "9\n"
     ]
    }
   ],
   "source": [
    "for x in range(1,10,2):\n",
    "    print(x)"
   ]
  },
  {
   "cell_type": "code",
   "execution_count": 41,
   "metadata": {},
   "outputs": [
    {
     "name": "stdout",
     "output_type": "stream",
     "text": [
      "0\n",
      "1\n",
      "2\n",
      "3\n",
      "4\n"
     ]
    }
   ],
   "source": [
    "for x in range(5):\n",
    "    print(x)"
   ]
  },
  {
   "cell_type": "code",
   "execution_count": 42,
   "metadata": {},
   "outputs": [
    {
     "name": "stdout",
     "output_type": "stream",
     "text": [
      "0\n",
      "10\n",
      "20\n",
      "30\n",
      "40\n",
      "50\n",
      "60\n",
      "70\n",
      "80\n",
      "90\n",
      "100\n"
     ]
    }
   ],
   "source": [
    "for x in range(0,101,10):\n",
    "    print(x)"
   ]
  },
  {
   "cell_type": "code",
   "execution_count": null,
   "metadata": {},
   "outputs": [],
   "source": [
    "\"\"\"break\n",
    "break ifadesi döngüyü sonlandirir.\n",
    "\n",
    "continue\n",
    "continue ifadesi döngünü sonraki adimina geçer.\"\"\""
   ]
  },
  {
   "cell_type": "code",
   "execution_count": 43,
   "metadata": {},
   "outputs": [
    {
     "name": "stdout",
     "output_type": "stream",
     "text": [
      "0\n",
      "1\n",
      "2\n",
      "3\n",
      "4\n"
     ]
    }
   ],
   "source": [
    "i = 0\n",
    "while i < 10:\n",
    "    if i == 5:\n",
    "        break\n",
    "    else:\n",
    "        print(i)\n",
    "    i+=1"
   ]
  },
  {
   "cell_type": "code",
   "execution_count": 44,
   "metadata": {},
   "outputs": [
    {
     "name": "stdout",
     "output_type": "stream",
     "text": [
      "Uygulamadan çikmak için q tuluna basiniz\n",
      "Yaşiniz: 5\n",
      "Uygulamadan çikmak için q tuluna basiniz\n",
      "Yaşiniz: 4\n",
      "Uygulamadan çikmak için q tuluna basiniz\n",
      "Yaşiniz: 22\n",
      "Uygulamadan çikmak için q tuluna basiniz\n",
      "Yaşiniz: 21\n",
      "Uygulamadan çikmak için q tuluna basiniz\n"
     ]
    }
   ],
   "source": [
    "while True:\n",
    "    print(\"Uygulamadan çikmak için q tuluna basiniz\")\n",
    "    yas= input(\"Yaş:\")\n",
    "    if(yas == \"q\"):\n",
    "        break\n",
    "    else:\n",
    "        print(\"Yaşiniz:\",yas)"
   ]
  },
  {
   "cell_type": "code",
   "execution_count": 45,
   "metadata": {},
   "outputs": [
    {
     "name": "stdout",
     "output_type": "stream",
     "text": [
      "0\n",
      "1\n",
      "2\n",
      "3\n",
      "4\n",
      "6\n"
     ]
    }
   ],
   "source": [
    "for i in range(7):\n",
    "    if i == 5:\n",
    "        continue\n",
    "    print(i)"
   ]
  }
 ],
 "metadata": {
  "kernelspec": {
   "display_name": "Python 3",
   "language": "python",
   "name": "python3"
  },
  "language_info": {
   "codemirror_mode": {
    "name": "ipython",
    "version": 3
   },
   "file_extension": ".py",
   "mimetype": "text/x-python",
   "name": "python",
   "nbconvert_exporter": "python",
   "pygments_lexer": "ipython3",
   "version": "3.11.1"
  },
  "orig_nbformat": 4
 },
 "nbformat": 4,
 "nbformat_minor": 2
}
