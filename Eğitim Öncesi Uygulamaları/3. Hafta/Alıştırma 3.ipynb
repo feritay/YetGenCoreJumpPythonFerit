{
 "cells": [
  {
   "cell_type": "code",
   "execution_count": 1,
   "metadata": {},
   "outputs": [],
   "source": [
    "a, b, c, d = 5, 5, 10, 4"
   ]
  },
  {
   "cell_type": "code",
   "execution_count": 2,
   "metadata": {},
   "outputs": [
    {
     "name": "stdout",
     "output_type": "stream",
     "text": [
      "True\n",
      "False\n"
     ]
    }
   ],
   "source": [
    "#== ifadesi eşit mi sorusunu sorar\n",
    "print(a == b) #True\n",
    "print(a == c) #False\n"
   ]
  },
  {
   "cell_type": "code",
   "execution_count": 3,
   "metadata": {},
   "outputs": [
    {
     "name": "stdout",
     "output_type": "stream",
     "text": [
      "False\n"
     ]
    }
   ],
   "source": [
    "#= ifedesi değer atar\n",
    "username = \"admin\"\n",
    "password = \"12345\"\n",
    "print(\"berkcan\" == username) #False"
   ]
  },
  {
   "cell_type": "code",
   "execution_count": 4,
   "metadata": {},
   "outputs": [
    {
     "name": "stdout",
     "output_type": "stream",
     "text": [
      "False\n",
      "True\n"
     ]
    }
   ],
   "source": [
    "#!= ifadesi eşit değil mi sorusunu sorar\n",
    "print(a != b) #False\n",
    "print(a != d) #True"
   ]
  },
  {
   "cell_type": "code",
   "execution_count": 5,
   "metadata": {},
   "outputs": [
    {
     "name": "stdout",
     "output_type": "stream",
     "text": [
      "False\n"
     ]
    }
   ],
   "source": [
    "#> ifadesi büyük müdür sorusunu sorar\n",
    "print(a > b) #False"
   ]
  },
  {
   "cell_type": "code",
   "execution_count": 6,
   "metadata": {},
   "outputs": [
    {
     "name": "stdout",
     "output_type": "stream",
     "text": [
      "False\n"
     ]
    }
   ],
   "source": [
    "#< ifadesi küçük müdür sorusunu sorar\n",
    "print(a < b) #False"
   ]
  },
  {
   "cell_type": "code",
   "execution_count": 7,
   "metadata": {},
   "outputs": [
    {
     "name": "stdout",
     "output_type": "stream",
     "text": [
      "True\n"
     ]
    }
   ],
   "source": [
    "#>= ifadesi büyük veya eşit midir sorusunu sorar\n",
    "print(a >= b) #True"
   ]
  },
  {
   "cell_type": "code",
   "execution_count": 8,
   "metadata": {},
   "outputs": [
    {
     "name": "stdout",
     "output_type": "stream",
     "text": [
      "True\n"
     ]
    }
   ],
   "source": [
    "#<= ifadesiküçük veya eşit midir sorusunu sorar\n",
    "print(a <= b) #True"
   ]
  },
  {
   "cell_type": "code",
   "execution_count": 12,
   "metadata": {},
   "outputs": [
    {
     "name": "stdout",
     "output_type": "stream",
     "text": [
      "1\n",
      "False\n"
     ]
    }
   ],
   "source": [
    "\"\"\"AND OPERATÖRÜ\n",
    "true and true = true\n",
    "false and true = false\n",
    "true and false = false\n",
    "false = false = false\n",
    "Her iki durumda eğer doğruysa True değerini döndürür. Diğer durumlarda hep False değerini döndürür.\"\"\"\n",
    "\n",
    "x = int(input(\"Bir sayi giriniz:\"))\n",
    "print(x)\n",
    "print(x>5 and x<100) #False\n"
   ]
  },
  {
   "cell_type": "code",
   "execution_count": 13,
   "metadata": {},
   "outputs": [
    {
     "name": "stdout",
     "output_type": "stream",
     "text": [
      "True\n"
     ]
    }
   ],
   "source": [
    "hak = 5\n",
    "devamMi = True\n",
    "print(hak>0 and devamMi == True) #True"
   ]
  },
  {
   "cell_type": "code",
   "execution_count": 14,
   "metadata": {},
   "outputs": [
    {
     "name": "stdout",
     "output_type": "stream",
     "text": [
      "5\n",
      "True\n"
     ]
    }
   ],
   "source": [
    "\"\"\"OR OPERATÖRÜ\n",
    "true or true = true\n",
    "false or true = true\n",
    "true or false = true\n",
    "false or false = false\n",
    "Yalnizca 2 durumun yanliş olduğu zaman False diğer her durumda True değer verir.\"\"\"\n",
    "\n",
    "x = int(input(\"Bir sayi giriniz:\"))\n",
    "print(x)\n",
    "print(x>0 or x%2 == 0) #True\n"
   ]
  },
  {
   "cell_type": "code",
   "execution_count": 15,
   "metadata": {},
   "outputs": [
    {
     "name": "stdout",
     "output_type": "stream",
     "text": [
      "False\n"
     ]
    }
   ],
   "source": [
    "print(3>4 or -1>1 ) #False"
   ]
  },
  {
   "cell_type": "code",
   "execution_count": 17,
   "metadata": {},
   "outputs": [
    {
     "name": "stdout",
     "output_type": "stream",
     "text": [
      "False\n"
     ]
    }
   ],
   "source": [
    "\"\"\"NOT OPERATÖRÜ\n",
    "True değerini False\n",
    "False değerini True döndürür.\"\"\"\n",
    "\n",
    "print(not(True))"
   ]
  },
  {
   "cell_type": "code",
   "execution_count": null,
   "metadata": {},
   "outputs": [],
   "source": [
    "\"\"\"KARAR YAPILARI\n",
    "if - koşul: koşul doğruysa çalişacak kodlar\n",
    "elif - koşul2: koşul2 doğruysa çalişacak kodlar\n",
    "else - : koşul ve koşul2 yanlişsa çalişacak kodlar\n",
    "\n",
    "Eğer if bloğu doğruysa diğer durumlara bakilmaz ve if bloğu altindaki kodlar çalişir.\n",
    "else yapisinin kullanilmasi zorunlu değildir olsa da olur olmasa da olur.\n",
    "elif yapisinin kullanilmasi zorunlu değildir olsa da olur olmasada olur.\n",
    "else yapisinin if ve varsa elif yapisinin FALSE olduğu durumda ikinci nihai durum olarak çalişir.\n",
    "elif yapisinin birden çok farkli koşullardan doğacak durumlarin kontrolünü sağlamak için kullaniriz.\"\"\""
   ]
  },
  {
   "cell_type": "code",
   "execution_count": null,
   "metadata": {},
   "outputs": [],
   "source": []
  },
  {
   "cell_type": "code",
   "execution_count": null,
   "metadata": {},
   "outputs": [],
   "source": []
  },
  {
   "cell_type": "code",
   "execution_count": null,
   "metadata": {},
   "outputs": [],
   "source": []
  },
  {
   "cell_type": "code",
   "execution_count": null,
   "metadata": {},
   "outputs": [],
   "source": []
  },
  {
   "cell_type": "code",
   "execution_count": null,
   "metadata": {},
   "outputs": [],
   "source": []
  },
  {
   "cell_type": "code",
   "execution_count": null,
   "metadata": {},
   "outputs": [],
   "source": []
  }
 ],
 "metadata": {
  "kernelspec": {
   "display_name": "Python 3",
   "language": "python",
   "name": "python3"
  },
  "language_info": {
   "codemirror_mode": {
    "name": "ipython",
    "version": 3
   },
   "file_extension": ".py",
   "mimetype": "text/x-python",
   "name": "python",
   "nbconvert_exporter": "python",
   "pygments_lexer": "ipython3",
   "version": "3.11.1"
  },
  "orig_nbformat": 4
 },
 "nbformat": 4,
 "nbformat_minor": 2
}
