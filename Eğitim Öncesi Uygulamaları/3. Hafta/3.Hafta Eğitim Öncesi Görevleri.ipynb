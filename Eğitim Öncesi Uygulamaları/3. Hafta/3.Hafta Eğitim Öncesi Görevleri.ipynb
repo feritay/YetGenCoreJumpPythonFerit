{
  "cells": [
    {
      "cell_type": "markdown",
      "metadata": {
        "id": "tsD4YVAe_Te2"
      },
      "source": [
        "# Problem 1\n",
        "Bir sayının 7'ye bölünebilir olup olmadığını kontrol etmek \n",
        "için bir program yazın.\n",
        "\n",
        "İpucu: Mod operatörünü (%) kullanabilirsiniz."
      ]
    },
    {
      "cell_type": "code",
      "execution_count": 5,
      "metadata": {
        "id": "NGjvNwKx_Te7"
      },
      "outputs": [
        {
          "name": "stdout",
          "output_type": "stream",
          "text": [
            "21 sayisi 7'ye tam bölünür.\n"
          ]
        }
      ],
      "source": [
        "# 1.Problemin Çözümünü Buraya Yazınız\n",
        "\n",
        "x = int(input(\"Bir sayi giriniz:\"))\n",
        "if x%7 == 0:\n",
        "    print(f\"{x} sayisi 7'ye tam bölünür.\")\n",
        "else:\n",
        "    print(f\"{x} sayisi 7'ye tam bölünmez.\")\n"
      ]
    },
    {
      "cell_type": "markdown",
      "metadata": {
        "id": "Kg3qiBAI_Te8"
      },
      "source": [
        "# Problem 2\n",
        "Kullanıcıdan vize ve final notu isteyin. Girilen vize notunun %40’ı ve \n",
        "girilen finalnotunun ise %60’ı alınarak yıl sonu not ortalaması hesaplanacaktır. \n",
        "\n",
        "Bu not ortalaması eğer 85 ve üzeri ise AA, \n",
        "\n",
        "75 ve 85 arasında ise BA, \n",
        "\n",
        "70 ve 75 arasında ise BB, \n",
        "\n",
        "65 ve 70 arasında ise CB,\n",
        "\n",
        "60 ve 65 arasında ise CC,\n",
        "\n",
        "55 ve 60 arasında ise DC,\n",
        "\n",
        "50 ve 55 arasında ise DD olarak hesaplanacaktır. \n",
        "\n",
        "Bu öğrencinin yıl sonu toplam notu 50’nin altında ise FF ile dersten kalacaktır. \n",
        "\n",
        "Ayrıca öğrencinin final notu 50’nin altında ise direkt FF ile kalacaktır."
      ]
    },
    {
      "cell_type": "code",
      "execution_count": 10,
      "metadata": {
        "id": "MXTtCxI1_Te8"
      },
      "outputs": [
        {
          "name": "stdout",
          "output_type": "stream",
          "text": [
            "Harf notunuz AA!\n"
          ]
        }
      ],
      "source": [
        "# 2.Problemin Çözümünü Buraya Yazınız\n",
        "\n",
        "vize = float(input(\"Vize notunuzu giriniz:\"))\n",
        "final = float(input(\"Final notunuzu giriniz:\"))\n",
        "ort = vize*40/100+final*60/100\n",
        "\n",
        "if final<50:\n",
        "    print(\"Harf notunuz FF!\")\n",
        "else:\n",
        "    if ort>=85:\n",
        "        print(\"Harf notunuz AA!\")\n",
        "    elif 85>ort>=75:\n",
        "        print(\"Harf notunuz BA!\")\n",
        "    elif 75>ort>=70:\n",
        "        print(\"Harf notunuz BB!\")\n",
        "    elif 70>ort>=65:\n",
        "        print(\"Harf notunuz CB!\")\n",
        "    elif 65>ort>=60:\n",
        "        print(\"Harf notunuz CC!\")\n",
        "    elif 60>ort>=55:\n",
        "        print(\"Harf notunuz DC!\")\n",
        "    elif 55>ort>=50:\n",
        "        print(\"Harf notunuz DD!\")\n",
        "    else:\n",
        "        print(\"Harf notunuz FF!\")\n"
      ]
    },
    {
      "cell_type": "markdown",
      "metadata": {
        "id": "tAoRYCTC_Te8"
      },
      "source": [
        "# Problem 3\n",
        "İki YetGenli Zirve'de karşılaşıyorlar. Birbirlerini tanımak için sorular soruyorlar. Birbirlerine yaşlarını soruyorlar. Akıllarına bir Python programı yazıp, yaşlarını ve isimlerini giriyorlar. Büyük olanın yaşını ekrana yazdıran programı yazıyorlar. Sende bu iki YetGenli'ye destek olmak ister misin?\n",
        "\n",
        "```\n",
        "Birinci YetGenlinin ismi: Ahmet\n",
        "Birinci YetGenlinin yaşı : 20\n",
        "İkinci YetGenlinin ismi: Mehmet\n",
        "İkinci YetGenlinin yaşı : 25\n",
        "Mehmet'in yaşı daha büyük ve yaşı 25'tir.\n",
        "```"
      ]
    },
    {
      "cell_type": "code",
      "execution_count": 15,
      "metadata": {
        "id": "bPjE8W0i_Te8"
      },
      "outputs": [
        {
          "name": "stdout",
          "output_type": "stream",
          "text": [
            "Ferit'in yasi 20 ve daha büyüktür.\n"
          ]
        }
      ],
      "source": [
        "# 3.Problemin Çözümünü Buraya Yazınız\n",
        "\n",
        "birinciKisi = input(\"Merhaba YetGenli! İsmin nedir?\")\n",
        "yas1 = int(input(\"YetGenli yaşini öğrenebilir miyim?\"))\n",
        "ikinciKisi = input(\"Merhaba YetGenli! İsmin nedir?\")\n",
        "yas2 = int(input(\"YetGenli yaşini öğrenebilir miyim?\"))\n",
        "\n",
        "if yas1>yas2:\n",
        "    print(f\"{birinciKisi}'in yasi {yas1} ve daha büyüktür.\")\n",
        "elif yas1<yas2:\n",
        "    print(f\"{ikinciKisi}'in yasi {yas2} ve daha büyüktür.\")\n",
        "else:\n",
        "    print(\"YetGenliler {} ve {} yaşlariniz eşit!\".format(birinciKisi,ikinciKisi))\n"
      ]
    },
    {
      "cell_type": "markdown",
      "metadata": {
        "id": "zBVv8Tyg_Te9"
      },
      "source": [
        "# Problem 4\n",
        "Pandemi döneminde AVM'lerde ateş ölçümü yapılıyor. AVM'ye giren kişinin ateş ölçümü 37.5 derecenin altında ise girişe izin veriliyor. 37.5 derecenin üstünde ise girişe izin verilmiyor. AVM'ye girişe izin verilip verilmediğini ekrana yazdıran bir program yazın.\n",
        "\n",
        "Program sonunda şöyle bir çıktı elde etmelisiniz:\n",
        "\n",
        "```\n",
        "Ateşiniz 37.5 derece. AVM'ye girebilirsin! Maske takmayı unutma!\n",
        "Ateşiniz 37.6 derece. AVM'ye giremezsin! Hemen evine dön!\n",
        "```"
      ]
    },
    {
      "cell_type": "code",
      "execution_count": 18,
      "metadata": {
        "id": "TSAXs8et_Te9"
      },
      "outputs": [
        {
          "name": "stdout",
          "output_type": "stream",
          "text": [
            "Ateşiniz 34.5 derece. AVM'ye girebilirsin! Maske takmayi unutma!\n"
          ]
        }
      ],
      "source": [
        "# 4.Problemin Çözümünü Buraya Yazınız\n",
        "\n",
        "ates = float(input(\"Ateşinizi giriniz:\"))\n",
        "\n",
        "if ates <= 37.5:\n",
        "    print(\"Ateşiniz {} derece. AVM'ye girebilirsin! Maske takmayi unutma!\".format(ates))\n",
        "else:\n",
        "    print(\"Ateşiniz {} derece. AVM'ye giremezsin! Hemen evine dön!\".format(ates))\n",
        "    "
      ]
    },
    {
      "cell_type": "markdown",
      "metadata": {
        "id": "6AEkZrDt_Te9"
      },
      "source": [
        "# Problem 5\n",
        "YetGen bir spor kulübüyle sponsorluk anlaşması yapıyor. Kulüp, sponsorluk anlaşmasına göre her YetGen liderinin beden kitle indeksini hesaplamak istiyor. Spor kulübü, beden kitle indeksini hesaplamak için YetGen Jump Python liderlerinden Berkcan ve Ahmet'i arıyor. Berkcan ve Ahmet, kulübe yardımcı olmak için bir Python programı yazıyorlar. Sende bu iki YetGen liderine destek olmak ister misin?\n",
        "\n",
        "Kullanıcıdan alınan boy ve kilo değerlerine göre beden kitle indeksini hesaplayın ve şu kurallara göre ekrana şu yazıları yazdırın.\n",
        "\n",
        "\n",
        "Beden Kitle İndeksi, kişinin ağırlığının (kg olarak) boyunun karesine (m olarak) bölünmesiyle hesaplanır.\n",
        "\n",
        "\n",
        "```\n",
        " BKİ 18.5'un altındaysa -------> Zayıf\n",
        "\n",
        " BKİ 18.5 ile 25 arasındaysa ------> Normal\n",
        "\n",
        " BKİ 25 ile 30 arasındaysa --------> Fazla Kilolu\n",
        "\n",
        " BKİ 30'un üstündeyse -------------> Obez\n",
        "```\n",
        "\n"
      ]
    },
    {
      "cell_type": "code",
      "execution_count": 26,
      "metadata": {
        "id": "t-XPI_u0_Te-"
      },
      "outputs": [
        {
          "name": "stdout",
          "output_type": "stream",
          "text": [
            "Beden Kitle Endeksin = 23.37472607742878, Normal\n"
          ]
        }
      ],
      "source": [
        "# 5.Problemin Çözümünü Buraya Yazınız\n",
        "\n",
        "boy = float(input(\"Sevgili YetGen lideri, boyunu(cm) girer misin?\"))\n",
        "kilo = float(input(\"Sevgili YetGen lideri, kilonu(kg) girer misin?\"))\n",
        "\n",
        "bKİ = kilo/((boy/100)**2)\n",
        "\n",
        "if bKİ<18.5:\n",
        "    print(f\"Beden Kitle Endeksin = {bKİ}, Zayif\")\n",
        "elif 18.5<=bKİ<25:\n",
        "    print(f\"Beden Kitle Endeksin = {bKİ}, Normal\")\n",
        "elif 25<=bKİ<30:\n",
        "    print(f\"Beden Kitle Endeksin = {bKİ}, Fazla Kilolu\")\n",
        "else:\n",
        "    print(f\"Beden Kitle Endeksin = {bKİ}, Obez\")\n"
      ]
    },
    {
      "cell_type": "markdown",
      "metadata": {
        "id": "oFsvQyaO_Te-"
      },
      "source": [
        "# Problem 6\n",
        "Kullanıcıdan isim, yaş ve eğitim bilgilerini isteyip ehliyet alabilme  durumunu kontrol ediniz. \n",
        "\n",
        "Ehliyet alma koşulu en az 18 yaşında ve eğitim durumu lise ya da üniversite olmalıdır. "
      ]
    },
    {
      "cell_type": "code",
      "execution_count": 28,
      "metadata": {
        "id": "Tu2mcgco_Te-"
      },
      "outputs": [
        {
          "name": "stdout",
          "output_type": "stream",
          "text": [
            "Sayin Ferit, ehliyet alabilirsiniz.\n"
          ]
        }
      ],
      "source": [
        "# 6.Problemin Çözümünü Buraya Yazınız\n",
        "\n",
        "isim = input(\"İsminizi giriniz:\")\n",
        "yaş = int(input(\"Yaşinizi giriniz:\"))\n",
        "eğitim = input(\"Eğitim durumunuzu giriniz:\")\n",
        "\n",
        "if yaş>=18 and eğitim == \"lise\":\n",
        "    print(f\"Sayin {isim}, ehliyet alabilirsiniz.\")\n",
        "elif yaş>=18 and eğitim == \"üniversite\":\n",
        "    print(f\"Sayin {isim}, ehliyet alabilirsiniz.\")\n",
        "else:\n",
        "    print(f\"Sayin {isim}, ehliyet alamazsiniz.\")\n"
      ]
    },
    {
      "cell_type": "markdown",
      "metadata": {
        "id": "eUkxVSAE_Te_"
      },
      "source": [
        "# Problem 7\n",
        "Bir yılın artık yıl olup olmadığını kontrol etmek için bir program yazın. \n",
        "Artık yıl kuralı:\n",
        "\n",
        "a) Eğer yılın son iki basamağı (00) ile bitmiyor ve yalnızca 4'e tam bölünüyorsa artık yıldır. Ya da, \n",
        "\n",
        "b) Eğer yıl 400'e tam bölünüyorsa artık yıldır.\n",
        "\n",
        "**Örneğin**\n",
        "```\n",
        "2017 artık yıl değildir.\n",
        "1900 artık yıl değildir\n",
        "2012 artık yıldır.\n",
        "2000 artık yıldır.\n",
        "```"
      ]
    },
    {
      "cell_type": "code",
      "execution_count": 32,
      "metadata": {
        "id": "4uWh8qUL_Te_"
      },
      "outputs": [
        {
          "name": "stdout",
          "output_type": "stream",
          "text": [
            "2000 artik yildir.\n"
          ]
        }
      ],
      "source": [
        "# 7.Problemin Çözümünü Buraya Yazınız\n",
        "\n",
        "yil = int(input(\"Sorgulayacağiniz yili giriniz:\"))\n",
        "\n",
        "a = yil%100\n",
        "\n",
        "if a != 0 and a%4 == 0:\n",
        "    print(f\"{yil} artik yildir.\")\n",
        "elif yil%400 == 0:\n",
        "    print(f\"{yil} artik yildir.\")\n",
        "else:\n",
        "    print(f\"{yil} artik yil değildir.\")\n",
        "    "
      ]
    }
  ],
  "metadata": {
    "colab": {
      "provenance": []
    },
    "kernelspec": {
      "display_name": "Python 3.10.5 64-bit",
      "language": "python",
      "name": "python3"
    },
    "language_info": {
      "codemirror_mode": {
        "name": "ipython",
        "version": 3
      },
      "file_extension": ".py",
      "mimetype": "text/x-python",
      "name": "python",
      "nbconvert_exporter": "python",
      "pygments_lexer": "ipython3",
      "version": "3.11.1"
    },
    "orig_nbformat": 4,
    "vscode": {
      "interpreter": {
        "hash": "5026d2d6e7aaaaba093def813beadff083d8733e4a511af01735cbabd156995d"
      }
    }
  },
  "nbformat": 4,
  "nbformat_minor": 0
}
