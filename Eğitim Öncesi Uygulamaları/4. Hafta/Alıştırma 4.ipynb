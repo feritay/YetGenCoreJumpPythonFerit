{
 "cells": [
  {
   "cell_type": "code",
   "execution_count": null,
   "metadata": {},
   "outputs": [],
   "source": [
    "\"\"\"Listeler\n",
    "- [] içerinde tutulurlar.\n",
    "- indexleme, veri güncelleme, silme, veri ekleme gibi işlemler yapilabilir.\n",
    "-İç içe listeleme işlemi yapilabilir.\"\"\""
   ]
  },
  {
   "cell_type": "code",
   "execution_count": 1,
   "metadata": {},
   "outputs": [
    {
     "name": "stdout",
     "output_type": "stream",
     "text": [
      "['Ahmet', 'Eslem', 'Berkcan', 'Çağla']\n"
     ]
    }
   ],
   "source": [
    "liderler = [\"Ahmet\", \"Eslem\", \"Berkcan\", \"Çağla\"]\n",
    "print(liderler)"
   ]
  },
  {
   "cell_type": "code",
   "execution_count": 5,
   "metadata": {},
   "outputs": [
    {
     "name": "stdout",
     "output_type": "stream",
     "text": [
      "Ahmet\n",
      "Çağla\n",
      "Çağla\n"
     ]
    }
   ],
   "source": [
    "print(liderler[0])\n",
    "print(liderler[-1])\n",
    "print(liderler[3])"
   ]
  },
  {
   "cell_type": "code",
   "execution_count": null,
   "metadata": {},
   "outputs": [],
   "source": [
    "\"\"\"Liste Metodalari\n",
    "- append() : Listenin sonuna eleman ekler.\n",
    "- remove() : Listenin içerisindeki elemani siler.\"\"\""
   ]
  },
  {
   "cell_type": "code",
   "execution_count": 6,
   "metadata": {},
   "outputs": [
    {
     "name": "stdout",
     "output_type": "stream",
     "text": [
      "['Ahmet', 'Eslem', 'Berkcan', 'Çağla', 'Emirhan']\n"
     ]
    }
   ],
   "source": [
    "liderler.append(\"Emirhan\")\n",
    "print(liderler)"
   ]
  },
  {
   "cell_type": "code",
   "execution_count": 7,
   "metadata": {},
   "outputs": [
    {
     "name": "stdout",
     "output_type": "stream",
     "text": [
      "['Ahmet', 'Eslem', 'Çağla', 'Emirhan']\n"
     ]
    }
   ],
   "source": [
    "liderler.remove(\"Berkcan\")\n",
    "print(liderler)"
   ]
  },
  {
   "cell_type": "code",
   "execution_count": 8,
   "metadata": {},
   "outputs": [
    {
     "name": "stdout",
     "output_type": "stream",
     "text": [
      "4\n"
     ]
    }
   ],
   "source": [
    "# len() : Listenin uzunluğunu verir.\n",
    "\n",
    "print(len(liderler))"
   ]
  },
  {
   "cell_type": "code",
   "execution_count": 9,
   "metadata": {},
   "outputs": [
    {
     "name": "stdout",
     "output_type": "stream",
     "text": [
      "['Ahmet', 'Eslem', 'Berkcan', 'Emirhan']\n"
     ]
    }
   ],
   "source": [
    "# Liste güncelleme\n",
    "\n",
    "liderler[2] = \"Berkcan\"\n",
    "print(liderler)"
   ]
  },
  {
   "cell_type": "code",
   "execution_count": 10,
   "metadata": {},
   "outputs": [
    {
     "data": {
      "text/plain": [
       "['Ahmet', 'Eslem', 'Berkcan', 'Emirhan']"
      ]
     },
     "execution_count": 10,
     "metadata": {},
     "output_type": "execute_result"
    }
   ],
   "source": [
    "liderler"
   ]
  },
  {
   "cell_type": "code",
   "execution_count": 13,
   "metadata": {},
   "outputs": [
    {
     "data": {
      "text/plain": [
       "[]"
      ]
     },
     "execution_count": 13,
     "metadata": {},
     "output_type": "execute_result"
    }
   ],
   "source": [
    "# clear() : Listenin içinceki elemanları siler.\n",
    "\n",
    "liderler.clear()\n",
    "liderler"
   ]
  },
  {
   "cell_type": "code",
   "execution_count": 23,
   "metadata": {},
   "outputs": [
    {
     "name": "stdout",
     "output_type": "stream",
     "text": [
      "['Ankara', 'İstanbul', 'İzmir']\n",
      " \n",
      "Ankara'nin indeksi:  0\n",
      "Ankara'nin indeksi: 0\n"
     ]
    }
   ],
   "source": [
    "# index() : Listedeki elemanın indeksini verir, aranan veriyi ilk bulduğunda durur. Diğer verilerde aynı veri varsa getirmez. Eğer veri bulunamazsa ValueError hatası verir.\n",
    "\n",
    "sehirler = list((\"Ankara\",\"İstanbul\",\"İzmir\"))\n",
    "print(sehirler)\n",
    "print(\" \")\n",
    "print(\"Ankara'nin indeksi: \", sehirler.index(\"Ankara\"))\n",
    "print(\"Ankara'nin indeksi: \" + str(sehirler.index(\"Ankara\")))\n"
   ]
  },
  {
   "cell_type": "code",
   "execution_count": 24,
   "metadata": {},
   "outputs": [
    {
     "data": {
      "text/plain": [
       "['Ankara', 'İstanbul']"
      ]
     },
     "execution_count": 24,
     "metadata": {},
     "output_type": "execute_result"
    }
   ],
   "source": [
    "# pop() : Listedeki elemanı siler. İndex verilirse verilen indexdeki elemanı siler. İndex verilmezse son elemanı siler.\n",
    "\n",
    "sehirler.pop()\n",
    "sehirler"
   ]
  },
  {
   "cell_type": "code",
   "execution_count": 25,
   "metadata": {},
   "outputs": [
    {
     "data": {
      "text/plain": [
       "['İstanbul']"
      ]
     },
     "execution_count": 25,
     "metadata": {},
     "output_type": "execute_result"
    }
   ],
   "source": [
    "sehirler.pop(0)\n",
    "sehirler"
   ]
  },
  {
   "cell_type": "code",
   "execution_count": 26,
   "metadata": {},
   "outputs": [
    {
     "name": "stdout",
     "output_type": "stream",
     "text": [
      "['Adana', 'İzmir', 'Denizli', 'İstanbul']\n"
     ]
    }
   ],
   "source": [
    "# insert() : İstenilen indexe eleman ekler.\n",
    "\n",
    "sehirler.insert(0,\"Adana\")\n",
    "sehirler.insert(1,\"İzmir\")\n",
    "sehirler.insert(2,\"Denizli\")\n",
    "print(sehirler)"
   ]
  },
  {
   "cell_type": "code",
   "execution_count": 31,
   "metadata": {},
   "outputs": [
    {
     "name": "stdout",
     "output_type": "stream",
     "text": [
      "['İstanbul', 'Denizli', 'İzmir', 'Adana']\n"
     ]
    }
   ],
   "source": [
    "# reverse() : Listeyi ters çevirir.\n",
    "\n",
    "sehirler.reverse()\n",
    "print(sehirler)"
   ]
  },
  {
   "cell_type": "code",
   "execution_count": 32,
   "metadata": {},
   "outputs": [
    {
     "name": "stdout",
     "output_type": "stream",
     "text": [
      "['Adana', 'Denizli', 'İstanbul', 'İzmir']\n"
     ]
    }
   ],
   "source": [
    "# sort() : Listeyi küçükten büyüğe veya alfabetik sıraya sıralar.\n",
    "\n",
    "sehirler.sort()\n",
    "print(sehirler)"
   ]
  },
  {
   "cell_type": "code",
   "execution_count": 33,
   "metadata": {},
   "outputs": [
    {
     "name": "stdout",
     "output_type": "stream",
     "text": [
      "['Berkcan', 'Ahmet', 'Çağla', 'Deniz']\n"
     ]
    }
   ],
   "source": [
    "# Liste toplama\n",
    "\n",
    "liste1 = [\"Berkcan\",\"Ahmet\"]\n",
    "liste2 = [\"Çağla\",\"Deniz\"]\n",
    "\n",
    "print(liste1 + liste2)"
   ]
  },
  {
   "cell_type": "code",
   "execution_count": 34,
   "metadata": {},
   "outputs": [
    {
     "name": "stdout",
     "output_type": "stream",
     "text": [
      "1\n",
      "5\n",
      "berkcan\n",
      "4\n",
      "6\n",
      "z\n"
     ]
    }
   ],
   "source": [
    "nestedList = [1,5,\"berkcan\",4,[6,\"z\"]]\n",
    "\n",
    "print(nestedList[0])\n",
    "print(nestedList[1])\n",
    "print(nestedList[2])\n",
    "print(nestedList[3])\n",
    "print(nestedList[4][0])\n",
    "print(nestedList[4][1])"
   ]
  },
  {
   "cell_type": "code",
   "execution_count": null,
   "metadata": {},
   "outputs": [],
   "source": []
  },
  {
   "cell_type": "code",
   "execution_count": null,
   "metadata": {},
   "outputs": [],
   "source": []
  },
  {
   "cell_type": "code",
   "execution_count": null,
   "metadata": {},
   "outputs": [],
   "source": []
  },
  {
   "cell_type": "code",
   "execution_count": null,
   "metadata": {},
   "outputs": [],
   "source": []
  },
  {
   "cell_type": "code",
   "execution_count": null,
   "metadata": {},
   "outputs": [],
   "source": []
  }
 ],
 "metadata": {
  "kernelspec": {
   "display_name": "Python 3",
   "language": "python",
   "name": "python3"
  },
  "language_info": {
   "codemirror_mode": {
    "name": "ipython",
    "version": 3
   },
   "file_extension": ".py",
   "mimetype": "text/x-python",
   "name": "python",
   "nbconvert_exporter": "python",
   "pygments_lexer": "ipython3",
   "version": "3.11.1"
  },
  "orig_nbformat": 4
 },
 "nbformat": 4,
 "nbformat_minor": 2
}
